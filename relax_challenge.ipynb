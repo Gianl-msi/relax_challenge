{
 "cells": [
  {
   "cell_type": "code",
   "execution_count": 2,
   "metadata": {
    "scrolled": true
   },
   "outputs": [],
   "source": [
    "import pandas as pd\n",
    "import numpy as np\n",
    "import matplotlib.pyplot as plt \n",
    "import datetime \n",
    "import seaborn as sns"
   ]
  },
  {
   "cell_type": "code",
   "execution_count": 3,
   "metadata": {
    "scrolled": true
   },
   "outputs": [
    {
     "data": {
      "text/html": [
       "<div>\n",
       "<style scoped>\n",
       "    .dataframe tbody tr th:only-of-type {\n",
       "        vertical-align: middle;\n",
       "    }\n",
       "\n",
       "    .dataframe tbody tr th {\n",
       "        vertical-align: top;\n",
       "    }\n",
       "\n",
       "    .dataframe thead th {\n",
       "        text-align: right;\n",
       "    }\n",
       "</style>\n",
       "<table border=\"1\" class=\"dataframe\">\n",
       "  <thead>\n",
       "    <tr style=\"text-align: right;\">\n",
       "      <th></th>\n",
       "      <th>object_id</th>\n",
       "      <th>creation_time</th>\n",
       "      <th>name</th>\n",
       "      <th>email</th>\n",
       "      <th>creation_source</th>\n",
       "      <th>last_session_creation_time</th>\n",
       "      <th>opted_in_to_mailing_list</th>\n",
       "      <th>enabled_for_marketing_drip</th>\n",
       "      <th>org_id</th>\n",
       "      <th>invited_by_user_id</th>\n",
       "    </tr>\n",
       "  </thead>\n",
       "  <tbody>\n",
       "    <tr>\n",
       "      <th>0</th>\n",
       "      <td>1</td>\n",
       "      <td>2014-04-22 03:53:30</td>\n",
       "      <td>Clausen August</td>\n",
       "      <td>AugustCClausen@yahoo.com</td>\n",
       "      <td>GUEST_INVITE</td>\n",
       "      <td>1.398139e+09</td>\n",
       "      <td>1</td>\n",
       "      <td>0</td>\n",
       "      <td>11</td>\n",
       "      <td>10803.0</td>\n",
       "    </tr>\n",
       "    <tr>\n",
       "      <th>1</th>\n",
       "      <td>2</td>\n",
       "      <td>2013-11-15 03:45:04</td>\n",
       "      <td>Poole Matthew</td>\n",
       "      <td>MatthewPoole@gustr.com</td>\n",
       "      <td>ORG_INVITE</td>\n",
       "      <td>1.396238e+09</td>\n",
       "      <td>0</td>\n",
       "      <td>0</td>\n",
       "      <td>1</td>\n",
       "      <td>316.0</td>\n",
       "    </tr>\n",
       "    <tr>\n",
       "      <th>2</th>\n",
       "      <td>3</td>\n",
       "      <td>2013-03-19 23:14:52</td>\n",
       "      <td>Bottrill Mitchell</td>\n",
       "      <td>MitchellBottrill@gustr.com</td>\n",
       "      <td>ORG_INVITE</td>\n",
       "      <td>1.363735e+09</td>\n",
       "      <td>0</td>\n",
       "      <td>0</td>\n",
       "      <td>94</td>\n",
       "      <td>1525.0</td>\n",
       "    </tr>\n",
       "    <tr>\n",
       "      <th>3</th>\n",
       "      <td>4</td>\n",
       "      <td>2013-05-21 08:09:28</td>\n",
       "      <td>Clausen Nicklas</td>\n",
       "      <td>NicklasSClausen@yahoo.com</td>\n",
       "      <td>GUEST_INVITE</td>\n",
       "      <td>1.369210e+09</td>\n",
       "      <td>0</td>\n",
       "      <td>0</td>\n",
       "      <td>1</td>\n",
       "      <td>5151.0</td>\n",
       "    </tr>\n",
       "    <tr>\n",
       "      <th>4</th>\n",
       "      <td>5</td>\n",
       "      <td>2013-01-17 10:14:20</td>\n",
       "      <td>Raw Grace</td>\n",
       "      <td>GraceRaw@yahoo.com</td>\n",
       "      <td>GUEST_INVITE</td>\n",
       "      <td>1.358850e+09</td>\n",
       "      <td>0</td>\n",
       "      <td>0</td>\n",
       "      <td>193</td>\n",
       "      <td>5240.0</td>\n",
       "    </tr>\n",
       "  </tbody>\n",
       "</table>\n",
       "</div>"
      ],
      "text/plain": [
       "   object_id       creation_time               name  \\\n",
       "0          1 2014-04-22 03:53:30     Clausen August   \n",
       "1          2 2013-11-15 03:45:04      Poole Matthew   \n",
       "2          3 2013-03-19 23:14:52  Bottrill Mitchell   \n",
       "3          4 2013-05-21 08:09:28    Clausen Nicklas   \n",
       "4          5 2013-01-17 10:14:20          Raw Grace   \n",
       "\n",
       "                        email creation_source  last_session_creation_time  \\\n",
       "0    AugustCClausen@yahoo.com    GUEST_INVITE                1.398139e+09   \n",
       "1      MatthewPoole@gustr.com      ORG_INVITE                1.396238e+09   \n",
       "2  MitchellBottrill@gustr.com      ORG_INVITE                1.363735e+09   \n",
       "3   NicklasSClausen@yahoo.com    GUEST_INVITE                1.369210e+09   \n",
       "4          GraceRaw@yahoo.com    GUEST_INVITE                1.358850e+09   \n",
       "\n",
       "   opted_in_to_mailing_list  enabled_for_marketing_drip  org_id  \\\n",
       "0                         1                           0      11   \n",
       "1                         0                           0       1   \n",
       "2                         0                           0      94   \n",
       "3                         0                           0       1   \n",
       "4                         0                           0     193   \n",
       "\n",
       "   invited_by_user_id  \n",
       "0             10803.0  \n",
       "1               316.0  \n",
       "2              1525.0  \n",
       "3              5151.0  \n",
       "4              5240.0  "
      ]
     },
     "execution_count": 3,
     "metadata": {},
     "output_type": "execute_result"
    }
   ],
   "source": [
    "table2 = pd.read_excel('takehome_usersb.xlsx')\n",
    "table2.head()"
   ]
  },
  {
   "cell_type": "code",
   "execution_count": 4,
   "metadata": {
    "scrolled": true
   },
   "outputs": [
    {
     "data": {
      "text/html": [
       "<div>\n",
       "<style scoped>\n",
       "    .dataframe tbody tr th:only-of-type {\n",
       "        vertical-align: middle;\n",
       "    }\n",
       "\n",
       "    .dataframe tbody tr th {\n",
       "        vertical-align: top;\n",
       "    }\n",
       "\n",
       "    .dataframe thead th {\n",
       "        text-align: right;\n",
       "    }\n",
       "</style>\n",
       "<table border=\"1\" class=\"dataframe\">\n",
       "  <thead>\n",
       "    <tr style=\"text-align: right;\">\n",
       "      <th></th>\n",
       "      <th>time_stamp</th>\n",
       "      <th>user_id</th>\n",
       "      <th>visited</th>\n",
       "    </tr>\n",
       "  </thead>\n",
       "  <tbody>\n",
       "    <tr>\n",
       "      <th>0</th>\n",
       "      <td>2014-04-22 03:53:30</td>\n",
       "      <td>1</td>\n",
       "      <td>1</td>\n",
       "    </tr>\n",
       "    <tr>\n",
       "      <th>1</th>\n",
       "      <td>2013-11-15 03:45:04</td>\n",
       "      <td>2</td>\n",
       "      <td>1</td>\n",
       "    </tr>\n",
       "    <tr>\n",
       "      <th>2</th>\n",
       "      <td>2013-11-29 03:45:04</td>\n",
       "      <td>2</td>\n",
       "      <td>1</td>\n",
       "    </tr>\n",
       "    <tr>\n",
       "      <th>3</th>\n",
       "      <td>2013-12-09 03:45:04</td>\n",
       "      <td>2</td>\n",
       "      <td>1</td>\n",
       "    </tr>\n",
       "    <tr>\n",
       "      <th>4</th>\n",
       "      <td>2013-12-25 03:45:04</td>\n",
       "      <td>2</td>\n",
       "      <td>1</td>\n",
       "    </tr>\n",
       "  </tbody>\n",
       "</table>\n",
       "</div>"
      ],
      "text/plain": [
       "            time_stamp  user_id  visited\n",
       "0  2014-04-22 03:53:30        1        1\n",
       "1  2013-11-15 03:45:04        2        1\n",
       "2  2013-11-29 03:45:04        2        1\n",
       "3  2013-12-09 03:45:04        2        1\n",
       "4  2013-12-25 03:45:04        2        1"
      ]
     },
     "execution_count": 4,
     "metadata": {},
     "output_type": "execute_result"
    }
   ],
   "source": [
    "table1 = pd.read_csv('takehome_user_engagement.csv')\n",
    "table1.head()"
   ]
  },
  {
   "cell_type": "code",
   "execution_count": 5,
   "metadata": {
    "scrolled": false
   },
   "outputs": [
    {
     "name": "stdout",
     "output_type": "stream",
     "text": [
      "<class 'pandas.core.frame.DataFrame'>\n",
      "RangeIndex: 207917 entries, 0 to 207916\n",
      "Data columns (total 3 columns):\n",
      " #   Column      Non-Null Count   Dtype \n",
      "---  ------      --------------   ----- \n",
      " 0   time_stamp  207917 non-null  object\n",
      " 1   user_id     207917 non-null  int64 \n",
      " 2   visited     207917 non-null  int64 \n",
      "dtypes: int64(2), object(1)\n",
      "memory usage: 4.8+ MB\n"
     ]
    }
   ],
   "source": [
    "table1.info()   "
   ]
  },
  {
   "cell_type": "code",
   "execution_count": 6,
   "metadata": {},
   "outputs": [
    {
     "data": {
      "text/html": [
       "<div>\n",
       "<style scoped>\n",
       "    .dataframe tbody tr th:only-of-type {\n",
       "        vertical-align: middle;\n",
       "    }\n",
       "\n",
       "    .dataframe tbody tr th {\n",
       "        vertical-align: top;\n",
       "    }\n",
       "\n",
       "    .dataframe thead th {\n",
       "        text-align: right;\n",
       "    }\n",
       "</style>\n",
       "<table border=\"1\" class=\"dataframe\">\n",
       "  <thead>\n",
       "    <tr style=\"text-align: right;\">\n",
       "      <th></th>\n",
       "      <th>time_stamp</th>\n",
       "      <th>user_id</th>\n",
       "      <th>visited</th>\n",
       "    </tr>\n",
       "  </thead>\n",
       "  <tbody>\n",
       "    <tr>\n",
       "      <th>0</th>\n",
       "      <td>2014-04-22</td>\n",
       "      <td>1</td>\n",
       "      <td>1</td>\n",
       "    </tr>\n",
       "    <tr>\n",
       "      <th>1</th>\n",
       "      <td>2013-11-15</td>\n",
       "      <td>2</td>\n",
       "      <td>1</td>\n",
       "    </tr>\n",
       "    <tr>\n",
       "      <th>2</th>\n",
       "      <td>2013-11-29</td>\n",
       "      <td>2</td>\n",
       "      <td>1</td>\n",
       "    </tr>\n",
       "    <tr>\n",
       "      <th>3</th>\n",
       "      <td>2013-12-09</td>\n",
       "      <td>2</td>\n",
       "      <td>1</td>\n",
       "    </tr>\n",
       "    <tr>\n",
       "      <th>4</th>\n",
       "      <td>2013-12-25</td>\n",
       "      <td>2</td>\n",
       "      <td>1</td>\n",
       "    </tr>\n",
       "  </tbody>\n",
       "</table>\n",
       "</div>"
      ],
      "text/plain": [
       "  time_stamp  user_id  visited\n",
       "0 2014-04-22        1        1\n",
       "1 2013-11-15        2        1\n",
       "2 2013-11-29        2        1\n",
       "3 2013-12-09        2        1\n",
       "4 2013-12-25        2        1"
      ]
     },
     "execution_count": 6,
     "metadata": {},
     "output_type": "execute_result"
    }
   ],
   "source": [
    "table1['time_stamp'] = pd.to_datetime(table1['time_stamp'])\n",
    "table1['time_stamp'] = table1['time_stamp'].dt.strftime('%m-%d-%Y')\n",
    "table1['time_stamp'] = pd.to_datetime(table1['time_stamp'])\n",
    "table1.head()"
   ]
  },
  {
   "cell_type": "code",
   "execution_count": 7,
   "metadata": {},
   "outputs": [
    {
     "name": "stdout",
     "output_type": "stream",
     "text": [
      "<class 'pandas.core.frame.DataFrame'>\n",
      "RangeIndex: 207917 entries, 0 to 207916\n",
      "Data columns (total 3 columns):\n",
      " #   Column      Non-Null Count   Dtype         \n",
      "---  ------      --------------   -----         \n",
      " 0   time_stamp  207917 non-null  datetime64[ns]\n",
      " 1   user_id     207917 non-null  int64         \n",
      " 2   visited     207917 non-null  int64         \n",
      "dtypes: datetime64[ns](1), int64(2)\n",
      "memory usage: 4.8 MB\n"
     ]
    }
   ],
   "source": [
    "table1.info() "
   ]
  },
  {
   "cell_type": "code",
   "execution_count": 56,
   "metadata": {},
   "outputs": [
    {
     "name": "stdout",
     "output_type": "stream",
     "text": [
      "[8192, 2, 8196, 8201, 10, 8206, 20, 8214, 8217, 8220, 8221, 33, 8232, 8233, 42, 43, 8235, 8239, 50, 8243, 53, 59, 60, 8252, 8254, 63, 8255, 8258, 8259, 69, 8265, 74, 77, 8269, 8270, 80, 81, 82, 8277, 8278, 87, 8280, 8286, 95, 8294, 8297, 8302, 8310, 8311, 8312, 8314, 126, 8319, 133, 135, 136, 141, 142, 8334, 8337, 146, 153, 8348, 160, 165, 168, 171, 172, 174, 8366, 8367, 8371, 185, 188, 8381, 8383, 197, 200, 8393, 202, 203, 8394, 8399, 209, 8401, 8403, 214, 8408, 221, 8415, 230, 8426, 241, 8435, 245, 247, 8440, 8442, 251, 8448, 263, 265, 8460, 8462, 8463, 8464, 8465, 8466, 275, 277, 280, 283, 297, 298, 8493, 305, 310, 311, 8505, 8507, 8508, 8511, 321, 322, 8514, 330, 8523, 337, 341, 345, 8538, 347, 351, 8553, 362, 363, 8555, 367, 370, 8564, 375, 8569, 8571, 382, 383, 8574, 8581, 390, 8585, 397, 398, 401, 8593, 8595, 8601, 8602, 8604, 417, 418, 8615, 430, 8622, 8629, 445, 8639, 8640, 450, 455, 460, 462, 8654, 469, 471, 472, 8663, 8666, 478, 479, 481, 8673, 483, 8675, 8677, 8679, 492, 8685, 494, 497, 8689, 502, 8695, 506, 509, 510, 511, 512, 8701, 8702, 8704, 8706, 8708, 518, 520, 8712, 522, 528, 529, 8721, 8725, 535, 540, 543, 547, 8740, 8741, 553, 555, 8749, 8750, 561, 564, 8758, 8759, 8760, 572, 575, 8767, 8768, 8769, 8770, 8779, 589, 591, 8789, 8790, 601, 603, 605, 607, 608, 8802, 8803, 8806, 617, 618, 8809, 8811, 627, 628, 632, 634, 8826, 8827, 639, 8832, 8835, 8837, 649, 8856, 665, 8857, 8860, 669, 8862, 8864, 8867, 8869, 679, 680, 8876, 8877, 8880, 8884, 8899, 710, 715, 716, 717, 8912, 724, 725, 8918, 8919, 728, 8924, 736, 738, 8932, 746, 8938, 8940, 8944, 8945, 754, 8952, 8955, 8957, 772, 8971, 8973, 783, 786, 788, 793, 8989, 8994, 8995, 804, 814, 815, 817, 9011, 9013, 828, 9030, 9031, 845, 9039, 850, 851, 9042, 9046, 9055, 9056, 9060, 869, 9062, 874, 9067, 882, 9076, 885, 9077, 887, 9079, 9083, 9085, 9088, 9089, 901, 906, 907, 912, 9112, 9113, 928, 9120, 932, 934, 937, 943, 9135, 9137, 946, 9142, 9143, 953, 9145, 9147, 9154, 9157, 9162, 9164, 980, 9172, 985, 9178, 991, 994, 9187, 999, 9195, 9196, 1007, 1009, 9202, 1013, 9207, 1017, 1018, 9210, 9211, 1026, 1027, 1030, 9222, 1035, 9229, 1039, 9232, 1049, 1055, 1061, 1064, 9257, 1072, 9265, 9269, 1087, 1088, 1089, 9281, 9284, 1093, 1094, 9286, 9288, 9290, 1099, 9295, 9297, 1106, 1107, 9303, 9306, 1119, 9312, 1123, 1124, 1125, 9315, 9318, 1128, 1129, 9322, 9325, 1136, 1140, 1141, 1145, 1147, 1149, 1150, 1151, 9343, 9344, 9345, 1155, 1156, 9346, 9349, 1162, 1163, 9358, 9359, 9362, 1173, 1178, 9374, 1186, 9381, 9383, 1196, 1197, 9390, 1202, 9400, 9402, 1212, 1214, 1222, 1227, 9423, 9425, 1235, 1238, 1240, 9432, 9434, 9435, 9436, 1245, 1250, 9442, 9445, 9450, 9461, 9464, 1274, 9470, 1280, 9477, 9479, 9481, 1290, 9486, 1297, 1299, 1303, 9495, 1311, 1312, 9504, 9506, 1318, 1319, 1320, 1321, 9510, 1327, 9524, 9528, 1339, 9532, 1343, 9535, 1345, 9540, 1350, 9542, 9546, 9547, 1357, 1361, 9558, 9559, 1368, 1380, 1385, 9580, 9582, 9584, 1396, 9591, 9593, 9597, 1407, 9601, 1410, 1411, 1421, 9615, 9616, 9623, 1434, 1439, 1440, 1441, 9633, 9635, 1445, 9641, 9644, 9645, 9652, 1464, 1466, 9660, 9661, 1472, 1476, 9670, 1479, 1480, 1481, 1485, 9679, 9683, 9684, 1496, 9691, 1500, 9694, 9695, 9696, 1506, 1507, 1508, 9698, 9699, 9704, 1525, 9717, 9721, 9722, 9724, 9727, 9728, 9737, 1546, 9742, 9746, 1555, 9747, 9750, 9751, 1561, 1562, 9754, 9764, 1576, 9768, 9771, 1581, 1592, 9786, 1598, 1600, 9795, 9806, 9807, 1617, 1621, 1624, 9819, 9821, 9823, 9825, 1641, 9833, 9835, 9837, 9839, 9841, 9843, 9845, 9850, 9852, 1663, 1665, 1666, 1671, 1672, 9863, 9868, 9870, 1681, 1685, 1689, 1690, 1691, 9882, 1693, 1694, 9889, 1702, 9897, 1706, 1709, 9901, 1714, 1716, 1717, 1720, 1722, 9914, 1726, 1730, 9925, 9927, 1740, 1741, 1742, 9934, 9936, 9939, 9940, 9941, 9942, 1753, 1754, 9947, 9948, 1758, 1759, 9958, 9959, 1769, 1770, 9961, 9962, 9963, 9965, 9968, 9972, 1781, 9974, 1783, 1784, 1786, 1787, 9985, 9991, 9992, 9994, 9999, 10002, 1811, 10003, 10006, 1816, 10011, 1820, 1821, 1822, 1823, 10015, 1825, 10020, 10022, 10023, 10025, 1836, 10030, 1844, 1845, 1858, 10053, 1864, 1865, 10058, 10059, 10062, 1872, 10064, 1875, 10070, 1879, 10074, 1885, 10079, 1891, 10084, 1897, 1901, 1907, 10100, 10102, 10104, 10115, 10118, 10121, 1930, 10122, 10126, 1941, 1944, 1954, 10153, 10155, 10159, 10165, 1974, 10167, 10177, 1993, 1999, 2002, 10199, 2009, 2011, 2013, 10207, 10211, 10212, 2024, 2025, 10217, 10222, 2033, 2034, 10225, 2037, 2038, 10230, 10233, 2042, 2043, 10234, 10238, 2049, 10244, 10246, 2056, 10251, 2063, 10257, 10258, 2073, 2074, 10265, 10268, 2078, 2080, 10274, 10281, 10283, 10291, 2101, 2103, 10299, 2111, 2112, 2113, 10303, 10307, 10311, 2124, 10316, 10320, 2129, 10322, 2131, 2134, 10332, 10335, 10339, 10349, 2159, 2160, 10352, 10355, 10357, 2171, 10363, 10367, 2176, 10368, 10371, 10372, 10374, 10383, 2193, 2194, 2196, 10388, 2199, 2201, 10394, 10397, 2206, 10401, 10406, 2220, 10412, 10415, 10416, 10419, 10429, 10430, 2239, 2241, 10433, 10434, 10437, 2246, 10442, 2253, 10446, 10447, 10448, 2259, 10459, 2270, 2271, 10463, 10465, 2278, 10470, 10473, 2282, 2285, 2286, 2289, 2290, 10483, 2297, 2300, 2301, 10497, 2307, 2311, 2312, 10505, 10507, 2316, 2322, 10514, 2324, 10519, 10520, 10523, 2332, 2333, 10524, 10526, 2337, 2339, 2357, 2361, 10554, 2370, 2371, 2372, 10571, 2380, 10573, 10574, 10580, 2390, 10582, 10583, 10585, 2399, 2400, 2403, 2406, 10599, 10602, 10611, 2421, 2425, 10617, 10619, 10621, 10626, 2435, 2436, 10627, 2438, 10630, 10631, 10634, 2447, 10639, 10644, 2455, 10647, 10648, 10649, 2461, 10656, 10663, 2474, 2481, 10674, 10677, 10678, 10679, 2490, 10683, 2492, 2495, 2502, 10696, 2516, 10708, 2519, 10713, 2532, 10725, 2536, 2539, 10734, 2544, 10736, 10737, 2548, 10745, 10746, 2557, 10750, 10751, 10753, 10756, 10757, 2566, 2568, 2569, 2570, 2571, 10763, 2577, 10770, 2583, 2587, 2590, 10785, 10787, 10791, 10792, 2601, 2604, 2610, 2615, 2618, 10811, 2620, 10812, 2622, 2624, 2626, 10820, 10824, 10827, 2636, 10832, 2641, 10833, 10834, 2645, 2647, 10840, 10843, 2658, 10851, 10858, 10860, 10863, 2672, 10866, 10867, 10869, 10870, 10872, 2681, 10876, 10883, 10885, 10892, 2713, 2714, 10909, 10911, 10913, 2723, 2724, 2727, 2731, 10927, 10928, 2739, 2744, 10937, 2746, 2750, 10945, 10948, 10949, 10953, 2762, 10958, 10961, 2771, 2776, 2782, 2787, 2798, 2809, 11003, 11004, 2817, 2818, 11010, 11015, 2827, 11021, 2832, 11024, 2836, 11031, 11032, 2841, 2843, 11036, 11039, 2851, 2857, 2859, 2863, 11056, 2866, 11061, 2870, 2873, 11065, 11067, 11072, 2881, 2886, 2887, 2889, 2890, 2891, 11083, 11086, 2895, 11093, 11100, 11101, 2915, 2918, 11112, 2921, 2925, 2931, 11123, 11130, 2939, 2940, 11133, 2945, 2946, 2948, 2949, 2952, 11144, 2961, 11160, 2969, 11164, 2973, 2974, 11169, 11170, 2979, 11176, 2993, 11186, 2998, 11190, 11191, 11194, 11195, 11198, 3009, 3014, 11206, 3017, 3018, 11212, 11213, 3025, 3026, 3028, 11223, 3032, 11226, 3036, 3039, 11231, 3046, 11240, 3052, 3053, 11250, 11254, 3063, 3066, 3067, 11259, 3069, 11261, 3071, 11263, 3073, 11267, 3076, 3077, 11270, 3080, 3081, 11272, 3083, 11273, 11278, 3087, 11279, 3093, 3100, 3102, 11294, 11300, 3112, 3113, 11306, 11310, 11314, 3124, 3125, 11316, 11320, 11321, 3133, 11327, 3137, 3139, 3140, 3145, 11341, 11344, 11347, 11349, 3159, 3160, 3163, 11357, 3175, 3178, 3179, 3180, 11370, 3183, 3185, 11377, 11379, 11381, 3193, 3194, 11388, 3201, 3203, 3204, 3205, 11396, 3207, 11404, 11405, 11406, 3216, 3217, 11408, 3220, 11412, 11415, 3226, 11421, 11423, 3232, 3235, 11428, 3238, 3239, 3244, 11438, 11450, 11452, 3269, 3273, 11465, 11469, 3280, 11476, 11479, 3294, 11486, 11487, 11499, 11500, 3310, 3311, 3315, 3317, 3318, 3323, 3324, 3327, 11519, 3332, 11527, 3338, 3339, 11530, 11533, 11537, 3346, 3347, 11541, 3353, 3356, 3359, 3360, 11556, 11559, 3370, 3374, 11567, 3378, 11570, 3381, 11573, 11578, 3387, 3389, 3390, 11586, 11588, 3397, 11591, 11593, 11596, 3405, 11599, 3408, 3409, 11600, 3411, 11604, 3413, 3426, 3428, 11621, 11622, 3431, 11627, 3436, 3437, 11636, 11637, 11639, 11642, 3451, 11646, 3463, 11660, 3470, 11662, 11671, 3481, 3484, 11682, 11683, 3493, 11688, 11690, 3499, 3502, 11702, 3514, 3517, 3521, 3522, 3525, 3531, 11728, 11730, 11732, 3541, 3546, 11738, 3556, 3560, 3561, 3562, 3564, 11758, 3567, 3568, 11762, 11764, 3574, 3577, 3578, 11769, 11773, 3586, 11778, 11782, 3592, 3593, 3597, 3598, 3600, 3601, 11792, 11796, 3606, 3607, 3609, 11801, 3612, 11805, 11806, 3617, 3623, 3626, 11823, 3634, 3639, 3641, 3642, 3644, 11836, 11841, 3652, 11851, 11856, 11857, 3671, 3673, 3675, 3676, 11869, 11873, 11879, 11880, 11885, 3695, 11893, 11895, 3704, 3705, 11902, 11904, 11906, 3717, 3718, 11909, 11913, 11920, 11924, 3739, 11935, 11939, 3749, 3752, 11948, 3757, 3758, 3759, 11949, 3762, 3765, 11957, 11958, 3768, 11959, 11961, 3772, 11964, 3774, 11965, 11967, 11969, 11975, 11980, 11981, 11988, 11991, 3802, 3804, 3812, 3819, 3824, 3830, 3832, 3837, 3843, 3852, 3856, 3859, 3862, 3863, 3866, 3867, 3879, 3881, 3882, 3887, 3906, 3915, 3917, 3919, 3946, 3956, 3957, 3960, 3970, 4003, 4007, 4009, 4017, 4018, 4019, 4022, 4029, 4031, 4041, 4043, 4045, 4052, 4065, 4067, 4074, 4082, 4086, 4090, 4105, 4106, 4134, 4140, 4141, 4143, 4145, 4146, 4155, 4156, 4158, 4167, 4171, 4181, 4182, 4184, 4186, 4187, 4196, 4200, 4203, 4206, 4208, 4209, 4216, 4217, 4218, 4223, 4234, 4243, 4244, 4248, 4255, 4256, 4258, 4263, 4266, 4268, 4269, 4278, 4282, 4295, 4296, 4317, 4327, 4330, 4335, 4341, 4349, 4350, 4353, 4354, 4371, 4384, 4388, 4389, 4402, 4403, 4404, 4408, 4410, 4421, 4425, 4428, 4433, 4439, 4444, 4445, 4446, 4467, 4472, 4477, 4479, 4481, 4485, 4489, 4493, 4494, 4497, 4502, 4511, 4513, 4519, 4529, 4535, 4551, 4553, 4558, 4560, 4561, 4562, 4564, 4565, 4569, 4571, 4576, 4580, 4582, 4589, 4600, 4608, 4609, 4611, 4612, 4616, 4618, 4619, 4625, 4680, 4685, 4701, 4703, 4709, 4712, 4713, 4715, 4720, 4726, 4729, 4730, 4731, 4738, 4742, 4745, 4753, 4760, 4774, 4778, 4780, 4784, 4785, 4793, 4803, 4805, 4812, 4820, 4822, 4824, 4826, 4832, 4835, 4837, 4839, 4844, 4850, 4854, 4861, 4869, 4870, 4874, 4876, 4884, 4886, 4902, 4908, 4915, 4921, 4924, 4934, 4935, 4943, 4945, 4950, 4954, 4961, 4964, 4965, 4966, 4969, 4974, 4989, 4992, 5013, 5015, 5027, 5048, 5057, 5062, 5063, 5067, 5069, 5071, 5073, 5075, 5084, 5100, 5101, 5103, 5111, 5115, 5127, 5132, 5137, 5145, 5151, 5152, 5153, 5156, 5157, 5160, 5162, 5167, 5170, 5173, 5180, 5200, 5210, 5211, 5212, 5215, 5225, 5240, 5243, 5246, 5254, 5255, 5259, 5267, 5281, 5291, 5294, 5297, 5301, 5304, 5307, 5309, 5326, 5329, 5350, 5351, 5360, 5362, 5364, 5365, 5369, 5378, 5381, 5385, 5386, 5397, 5399, 5407, 5412, 5415, 5426, 5428, 5432, 5439, 5441, 5445, 5454, 5456, 5463, 5467, 5479, 5483, 5494, 5507, 5508, 5514, 5515, 5516, 5527, 5531, 5532, 5547, 5551, 5552, 5557, 5559, 5560, 5571, 5575, 5577, 5579, 5586, 5589, 5600, 5605, 5607, 5609, 5611, 5620, 5623, 5641, 5645, 5650, 5652, 5655, 5663, 5666, 5677, 5678, 5681, 5682, 5685, 5686, 5695, 5704, 5705, 5714, 5718, 5721, 5722, 5723, 5725, 5726, 5728, 5730, 5739, 5741, 5742, 5743, 5756, 5761, 5777, 5789, 5795, 5798, 5806, 5827, 5828, 5830, 5832, 5840, 5841, 5847, 5850, 5853, 5861, 5863, 5866, 5882, 5892, 5900, 5905, 5915, 5918, 5927, 5939, 5944, 5950, 5960, 5965, 5977, 5990, 5993, 5996, 6007, 6011, 6012, 6014, 6016, 6026, 6029, 6033, 6038, 6044, 6045, 6047, 6049, 6050, 6058, 6059, 6061, 6064, 6065, 6070, 6071, 6081, 6090, 6096, 6100, 6103, 6108, 6111, 6114, 6126, 6134, 6135, 6136, 6148, 6152, 6170, 6171, 6180, 6184, 6187, 6198, 6204, 6205, 6210, 6217, 6228, 6232, 6236, 6238, 6239, 6242, 6246, 6258, 6259, 6266, 6270, 6279, 6281, 6282, 6284, 6285, 6293, 6296, 6302, 6305, 6312, 6321, 6322, 6342, 6349, 6350, 6357, 6367, 6370, 6371, 6388, 6393, 6401, 6405, 6414, 6416, 6419, 6425, 6427, 6438, 6462, 6463, 6464, 6470, 6481, 6482, 6504, 6506, 6517, 6523, 6532, 6539, 6555, 6569, 6571, 6590, 6597, 6600, 6609, 6617, 6623, 6624, 6627, 6633, 6637, 6638, 6640, 6643, 6653, 6654, 6655, 6662, 6668, 6688, 6705, 6711, 6713, 6717, 6729, 6731, 6733, 6734, 6735, 6740, 6741, 6742, 6751, 6757, 6759, 6760, 6765, 6771, 6778, 6782, 6786, 6808, 6810, 6818, 6827, 6832, 6835, 6837, 6845, 6851, 6856, 6862, 6863, 6865, 6866, 6867, 6870, 6886, 6893, 6894, 6895, 6900, 6909, 6913, 6914, 6916, 6922, 6924, 6938, 6956, 6962, 6963, 6965, 6966, 6971, 6978, 6982, 6988, 6992, 6993, 6998, 7004, 7014, 7015, 7019, 7020, 7023, 7029, 7034, 7048, 7071, 7074, 7080, 7096, 7097, 7101, 7104, 7107, 7111, 7114, 7120, 7131, 7153, 7156, 7158, 7165, 7170, 7172, 7173, 7189, 7192, 7194, 7196, 7198, 7199, 7205, 7208, 7209, 7210, 7212, 7215, 7219, 7221, 7231, 7234, 7242, 7248, 7257, 7261, 7283, 7296, 7301, 7310, 7323, 7342, 7349, 7351, 7362, 7375, 7378, 7380, 7384, 7385, 7386, 7398, 7399, 7401, 7403, 7405, 7406, 7409, 7411, 7431, 7436, 7437, 7441, 7443, 7449, 7450, 7475, 7480, 7493, 7498, 7503, 7511, 7518, 7529, 7536, 7538, 7539, 7544, 7549, 7555, 7556, 7572, 7587, 7590, 7598, 7600, 7605, 7608, 7613, 7615, 7618, 7622, 7624, 7641, 7644, 7654, 7655, 7661, 7670, 7678, 7682, 7683, 7688, 7691, 7696, 7697, 7700, 7705, 7707, 7710, 7720, 7724, 7740, 7760, 7764, 7770, 7772, 7774, 7778, 7786, 7787, 7789, 7792, 7798, 7802, 7805, 7813, 7818, 7820, 7827, 7839, 7844, 7848, 7858, 7859, 7868, 7873, 7878, 7882, 7895, 7896, 7897, 7899, 7904, 7905, 7910, 7920, 7926, 7927, 7939, 7941, 7951, 7966, 7970, 7971, 7979, 7980, 7985, 7989, 7991, 7995, 7999, 8009, 8010, 8020, 8022, 8025, 8029, 8031, 8033, 8034, 8037, 8046, 8047, 8048, 8063, 8068, 8069, 8070, 8071, 8072, 8075, 8082, 8084, 8091, 8092, 8101, 8104, 8109, 8111, 8123, 8130, 8134, 8137, 8149, 8156, 8157, 8159, 8161, 8165, 8166, 8169, 8173, 8175, 8191]\n",
      "2232\n"
     ]
    }
   ],
   "source": [
    "adopted_users = []\n",
    "for i in table1['user_id'].unique():\n",
    "    time = table1[table1['user_id']== i ]\n",
    "    if len(time) >=3:\n",
    "        time = time.set_index('time_stamp')\n",
    "        for l in range(len(time)-2):\n",
    "            if (time.index[l+2] - time.index[l]).days > 7:\n",
    "                adopted_users.append(i)\n",
    "          \n",
    "        \n",
    "adopted_users= list(set(adopted_users))\n",
    "print(adopted_users)  \n",
    "print(len(adopted_users))"
   ]
  },
  {
   "cell_type": "code",
   "execution_count": 57,
   "metadata": {},
   "outputs": [
    {
     "data": {
      "text/html": [
       "<div>\n",
       "<style scoped>\n",
       "    .dataframe tbody tr th:only-of-type {\n",
       "        vertical-align: middle;\n",
       "    }\n",
       "\n",
       "    .dataframe tbody tr th {\n",
       "        vertical-align: top;\n",
       "    }\n",
       "\n",
       "    .dataframe thead th {\n",
       "        text-align: right;\n",
       "    }\n",
       "</style>\n",
       "<table border=\"1\" class=\"dataframe\">\n",
       "  <thead>\n",
       "    <tr style=\"text-align: right;\">\n",
       "      <th></th>\n",
       "      <th>object_id</th>\n",
       "      <th>creation_time</th>\n",
       "      <th>name</th>\n",
       "      <th>email</th>\n",
       "      <th>creation_source</th>\n",
       "      <th>last_session_creation_time</th>\n",
       "      <th>opted_in_to_mailing_list</th>\n",
       "      <th>enabled_for_marketing_drip</th>\n",
       "      <th>org_id</th>\n",
       "      <th>invited_by_user_id</th>\n",
       "      <th>adopted</th>\n",
       "    </tr>\n",
       "  </thead>\n",
       "  <tbody>\n",
       "    <tr>\n",
       "      <th>0</th>\n",
       "      <td>1</td>\n",
       "      <td>2014-04-22 03:53:30</td>\n",
       "      <td>Clausen August</td>\n",
       "      <td>AugustCClausen@yahoo.com</td>\n",
       "      <td>GUEST_INVITE</td>\n",
       "      <td>1.398139e+09</td>\n",
       "      <td>1</td>\n",
       "      <td>0</td>\n",
       "      <td>11</td>\n",
       "      <td>10803.0</td>\n",
       "      <td>0</td>\n",
       "    </tr>\n",
       "    <tr>\n",
       "      <th>1</th>\n",
       "      <td>2</td>\n",
       "      <td>2013-11-15 03:45:04</td>\n",
       "      <td>Poole Matthew</td>\n",
       "      <td>MatthewPoole@gustr.com</td>\n",
       "      <td>ORG_INVITE</td>\n",
       "      <td>1.396238e+09</td>\n",
       "      <td>0</td>\n",
       "      <td>0</td>\n",
       "      <td>1</td>\n",
       "      <td>316.0</td>\n",
       "      <td>1</td>\n",
       "    </tr>\n",
       "    <tr>\n",
       "      <th>2</th>\n",
       "      <td>3</td>\n",
       "      <td>2013-03-19 23:14:52</td>\n",
       "      <td>Bottrill Mitchell</td>\n",
       "      <td>MitchellBottrill@gustr.com</td>\n",
       "      <td>ORG_INVITE</td>\n",
       "      <td>1.363735e+09</td>\n",
       "      <td>0</td>\n",
       "      <td>0</td>\n",
       "      <td>94</td>\n",
       "      <td>1525.0</td>\n",
       "      <td>0</td>\n",
       "    </tr>\n",
       "    <tr>\n",
       "      <th>3</th>\n",
       "      <td>4</td>\n",
       "      <td>2013-05-21 08:09:28</td>\n",
       "      <td>Clausen Nicklas</td>\n",
       "      <td>NicklasSClausen@yahoo.com</td>\n",
       "      <td>GUEST_INVITE</td>\n",
       "      <td>1.369210e+09</td>\n",
       "      <td>0</td>\n",
       "      <td>0</td>\n",
       "      <td>1</td>\n",
       "      <td>5151.0</td>\n",
       "      <td>0</td>\n",
       "    </tr>\n",
       "    <tr>\n",
       "      <th>4</th>\n",
       "      <td>5</td>\n",
       "      <td>2013-01-17 10:14:20</td>\n",
       "      <td>Raw Grace</td>\n",
       "      <td>GraceRaw@yahoo.com</td>\n",
       "      <td>GUEST_INVITE</td>\n",
       "      <td>1.358850e+09</td>\n",
       "      <td>0</td>\n",
       "      <td>0</td>\n",
       "      <td>193</td>\n",
       "      <td>5240.0</td>\n",
       "      <td>0</td>\n",
       "    </tr>\n",
       "  </tbody>\n",
       "</table>\n",
       "</div>"
      ],
      "text/plain": [
       "   object_id       creation_time               name  \\\n",
       "0          1 2014-04-22 03:53:30     Clausen August   \n",
       "1          2 2013-11-15 03:45:04      Poole Matthew   \n",
       "2          3 2013-03-19 23:14:52  Bottrill Mitchell   \n",
       "3          4 2013-05-21 08:09:28    Clausen Nicklas   \n",
       "4          5 2013-01-17 10:14:20          Raw Grace   \n",
       "\n",
       "                        email creation_source  last_session_creation_time  \\\n",
       "0    AugustCClausen@yahoo.com    GUEST_INVITE                1.398139e+09   \n",
       "1      MatthewPoole@gustr.com      ORG_INVITE                1.396238e+09   \n",
       "2  MitchellBottrill@gustr.com      ORG_INVITE                1.363735e+09   \n",
       "3   NicklasSClausen@yahoo.com    GUEST_INVITE                1.369210e+09   \n",
       "4          GraceRaw@yahoo.com    GUEST_INVITE                1.358850e+09   \n",
       "\n",
       "   opted_in_to_mailing_list  enabled_for_marketing_drip  org_id  \\\n",
       "0                         1                           0      11   \n",
       "1                         0                           0       1   \n",
       "2                         0                           0      94   \n",
       "3                         0                           0       1   \n",
       "4                         0                           0     193   \n",
       "\n",
       "   invited_by_user_id  adopted  \n",
       "0             10803.0        0  \n",
       "1               316.0        1  \n",
       "2              1525.0        0  \n",
       "3              5151.0        0  \n",
       "4              5240.0        0  "
      ]
     },
     "execution_count": 57,
     "metadata": {},
     "output_type": "execute_result"
    }
   ],
   "source": [
    "def isadopted(rowvalue):\n",
    "    if rowvalue in adopted_users:\n",
    "        return 1 \n",
    "    else:\n",
    "        return 0\n",
    "\n",
    "table2['adopted'] = table2['object_id'].apply(lambda x: isadopted(x))\n",
    "table2.head()"
   ]
  },
  {
   "cell_type": "code",
   "execution_count": 58,
   "metadata": {},
   "outputs": [
    {
     "name": "stdout",
     "output_type": "stream",
     "text": [
      "12000\n"
     ]
    },
    {
     "data": {
      "text/plain": [
       "0    9768\n",
       "1    2232\n",
       "Name: adopted, dtype: int64"
      ]
     },
     "execution_count": 58,
     "metadata": {},
     "output_type": "execute_result"
    }
   ],
   "source": [
    "print(len(table2))\n",
    "table2['adopted'].value_counts()"
   ]
  },
  {
   "cell_type": "code",
   "execution_count": 12,
   "metadata": {},
   "outputs": [
    {
     "data": {
      "text/plain": [
       "adopted  opted_in_to_mailing_list\n",
       "0        0                           0.75215\n",
       "         1                           0.24785\n",
       "1        0                           0.74328\n",
       "         1                           0.25672\n",
       "Name: opted_in_to_mailing_list, dtype: float64"
      ]
     },
     "execution_count": 12,
     "metadata": {},
     "output_type": "execute_result"
    }
   ],
   "source": [
    "# Is adoption rate dependent on opted_in_to_mailing_list ? \n",
    "table2.groupby('adopted')['opted_in_to_mailing_list'].value_counts(normalize = True)"
   ]
  },
  {
   "cell_type": "code",
   "execution_count": 13,
   "metadata": {},
   "outputs": [
    {
     "data": {
      "text/plain": [
       "adopted  enabled_for_marketing_drip\n",
       "0        0                             0.851863\n",
       "         1                             0.148137\n",
       "1        0                             0.845430\n",
       "         1                             0.154570\n",
       "Name: enabled_for_marketing_drip, dtype: float64"
      ]
     },
     "execution_count": 13,
     "metadata": {},
     "output_type": "execute_result"
    }
   ],
   "source": [
    "# Is adoption rate dependent on enabled_for_marketing_drip ? \n",
    "table2.groupby('adopted')['enabled_for_marketing_drip'].value_counts(normalize = True)"
   ]
  },
  {
   "cell_type": "code",
   "execution_count": 42,
   "metadata": {},
   "outputs": [
    {
     "data": {
      "text/plain": [
       "<Figure size 576x576 with 0 Axes>"
      ]
     },
     "metadata": {},
     "output_type": "display_data"
    },
    {
     "data": {
      "image/png": "[encoded data removed]",
      "text/plain": [
       "<Figure size 432x288 with 1 Axes>"
      ]
     },
     "metadata": {
      "needs_background": "light"
     },
     "output_type": "display_data"
    },
    {
     "data": {
      "text/html": [
       "<div>\n",
       "<style scoped>\n",
       "    .dataframe tbody tr th:only-of-type {\n",
       "        vertical-align: middle;\n",
       "    }\n",
       "\n",
       "    .dataframe tbody tr th {\n",
       "        vertical-align: top;\n",
       "    }\n",
       "\n",
       "    .dataframe thead th {\n",
       "        text-align: right;\n",
       "    }\n",
       "</style>\n",
       "<table border=\"1\" class=\"dataframe\">\n",
       "  <thead>\n",
       "    <tr style=\"text-align: right;\">\n",
       "      <th>creation_source</th>\n",
       "      <th>GUEST_INVITE</th>\n",
       "      <th>ORG_INVITE</th>\n",
       "      <th>PERSONAL_PROJECTS</th>\n",
       "      <th>SIGNUP</th>\n",
       "      <th>SIGNUP_GOOGLE_AUTH</th>\n",
       "    </tr>\n",
       "    <tr>\n",
       "      <th>adopted</th>\n",
       "      <th></th>\n",
       "      <th></th>\n",
       "      <th></th>\n",
       "      <th></th>\n",
       "      <th></th>\n",
       "    </tr>\n",
       "  </thead>\n",
       "  <tbody>\n",
       "    <tr>\n",
       "      <th>0</th>\n",
       "      <td>0.170352</td>\n",
       "      <td>0.355856</td>\n",
       "      <td>0.192670</td>\n",
       "      <td>0.170864</td>\n",
       "      <td>0.110258</td>\n",
       "    </tr>\n",
       "    <tr>\n",
       "      <th>1</th>\n",
       "      <td>0.223566</td>\n",
       "      <td>0.348566</td>\n",
       "      <td>0.102599</td>\n",
       "      <td>0.187276</td>\n",
       "      <td>0.137993</td>\n",
       "    </tr>\n",
       "  </tbody>\n",
       "</table>\n",
       "</div>"
      ],
      "text/plain": [
       "creation_source  GUEST_INVITE  ORG_INVITE  PERSONAL_PROJECTS    SIGNUP  \\\n",
       "adopted                                                                  \n",
       "0                    0.170352    0.355856           0.192670  0.170864   \n",
       "1                    0.223566    0.348566           0.102599  0.187276   \n",
       "\n",
       "creation_source  SIGNUP_GOOGLE_AUTH  \n",
       "adopted                              \n",
       "0                          0.110258  \n",
       "1                          0.137993  "
      ]
     },
     "execution_count": 42,
     "metadata": {},
     "output_type": "execute_result"
    }
   ],
   "source": [
    "# Is adoption rate dependent on creation_source ? \n",
    "creation_source = table2.groupby('adopted')['creation_source'].value_counts(normalize = True)\n",
    "\n",
    "plt.figure(figsize =(8,8))\n",
    "creation_source.unstack().plot(kind = 'bar', width=0.8)\n",
    "plt.ylim([0,0.4])\n",
    "plt.xticks([0, 1], ['Non Retained', 'Retained'], rotation = 45, ha=\"center\", fontsize =10)\n",
    "plt.xlabel('')\n",
    "plt.legend(bbox_to_anchor=(1.05, 1))\n",
    "plt.ylabel('Retention Rate')\n",
    "plt.title('Retention Rate vs sign-up source', fontsize =15)\n",
    "plt.savefig('Retention Rate vs sign-up source.tiff', dpi = 160)\n",
    "plt.tight_layout()\n",
    "plt.show();\n",
    "creation_source.unstack()"
   ]
  },
  {
   "cell_type": "markdown",
   "metadata": {},
   "source": [
    "**If the user signed up for a personal project is more likely to not become an adopted user**"
   ]
  },
  {
   "cell_type": "code",
   "execution_count": 59,
   "metadata": {},
   "outputs": [
    {
     "data": {
      "image/png": "[encoded data removed]",
      "text/plain": [
       "<Figure size 504x504 with 1 Axes>"
      ]
     },
     "metadata": {
      "needs_background": "light"
     },
     "output_type": "display_data"
    }
   ],
   "source": [
    "# Is adoption rate dependent on creation_source ? \n",
    "\n",
    "counts = table2.groupby('org_id')['org_id'].count()\n",
    "countsadop = table2.groupby('org_id')['adopted'].sum() / counts\n",
    "\n",
    "from matplotlib import rcParams\n",
    "rcParams.update({'figure.autolayout': True})\n",
    "\n",
    "plt.figure(figsize =(7,7))\n",
    "plt.scatter(counts, countsadop)\n",
    "plt.title('Retention rate vs number of users per organization', fontsize = 18)\n",
    "plt.ylabel('retention rate', fontsize = 13)\n",
    "plt.xlabel('users per organization', fontsize = 13)\n",
    "plt.savefig('Retention Rate vs size of organization.tiff', dpi = 160)\n",
    "plt.tight_layout()\n",
    "plt.show()"
   ]
  },
  {
   "cell_type": "markdown",
   "metadata": {},
   "source": [
    "**Retention rate diminishes with the size of the organization to which the users belongs to**"
   ]
  },
  {
   "cell_type": "code",
   "execution_count": null,
   "metadata": {},
   "outputs": [],
   "source": []
  }
 ],
 "metadata": {
  "kernelspec": {
   "display_name": "Python 3",
   "language": "python",
   "name": "python3"
  },
  "language_info": {
   "codemirror_mode": {
    "name": "ipython",
    "version": 3
   },
   "file_extension": ".py",
   "mimetype": "text/x-python",
   "name": "python",
   "nbconvert_exporter": "python",
   "pygments_lexer": "ipython3",
   "version": "3.7.9"
  }
 },
 "nbformat": 4,
 "nbformat_minor": 4
}
